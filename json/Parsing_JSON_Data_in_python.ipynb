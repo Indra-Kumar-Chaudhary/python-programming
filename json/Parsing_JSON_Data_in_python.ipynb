{
 "cells": [
  {
   "cell_type": "markdown",
   "metadata": {},
   "source": [
    "<h1> Parsing JSON Data In Python </h1>"
   ]
  },
  {
   "cell_type": "markdown",
   "metadata": {},
   "source": [
    "<p> Json is human-readable text-based data format. It is language independent and used for data \n",
    "interchange between applications.\n",
    "</p>"
   ]
  },
  {
   "cell_type": "markdown",
   "metadata": {},
   "source": [
    "<b> Python JSON</b>\n",
    "<p>\n",
    "    The JSON module that allows you to encode and decode JSON data is a part of the Python standard library.\n",
    "</p>\n",
    "<p>\n",
    "    JSON is a string that represents data. Encoding or serialization means transforming a python object into a JSON string that can be stored in a file or transmitted  over the network\n",
    "</p>"
   ]
  },
  {
   "cell_type": "markdown",
   "metadata": {},
   "source": [
    "<h1> Decoding or De-Serialization </h1>\n",
    "<p> The reverse process of encoding where a json string is transformed into python object.\n",
    "</p>"
   ]
  },
  {
   "cell_type": "markdown",
   "metadata": {},
   "source": [
    "<h1> Encoding Json in Python </h1>\n",
    "<p> The json module has two methods for ecoding python objects into JSON formatted strings. \n",
    "    <b>dump()</b> and <b>dumps()</b>\n",
    "</p>\n",
    "<p> The dump() method sends the output to a file object. It takes two positional arguments. The object to be encoded and the file-like object \n",
    "</p>"
   ]
  },
  {
   "cell_type": "code",
   "execution_count": 4,
   "metadata": {},
   "outputs": [],
   "source": [
    "# import python json module \n",
    "import json"
   ]
  },
  {
   "cell_type": "code",
   "execution_count": 2,
   "metadata": {},
   "outputs": [],
   "source": [
    "# Example \n",
    "data = {\n",
    "    \"Country\": \"Germany\",\n",
    "    \"Vehicle\": {\n",
    "        \"name\": \"Vokswagen\",\n",
    "        \"model\": \"T-Roc\"\n",
    "    }\n",
    "}"
   ]
  },
  {
   "cell_type": "code",
   "execution_count": 5,
   "metadata": {},
   "outputs": [],
   "source": [
    "with open(\"file.json\",\"w\") as file:\n",
    "    json.dump(data,file)"
   ]
  },
  {
   "cell_type": "code",
   "execution_count": 6,
   "metadata": {},
   "outputs": [],
   "source": [
    "# If you run the scripts it will create a file named file.json "
   ]
  },
  {
   "cell_type": "markdown",
   "metadata": {},
   "source": [
    "<p>\n",
    "    The dumps() method works same as dumps() but instead of sending the output to a file-like object, it returns a string.\n",
    "</p>"
   ]
  },
  {
   "cell_type": "code",
   "execution_count": 7,
   "metadata": {},
   "outputs": [],
   "source": [
    "data = {\n",
    "    \"Country\": \"Germany\",\n",
    "    \"Vehicle\": {\n",
    "        \"name\": \"Vokswagen\",\n",
    "        \"model\": \"T-Roc\"\n",
    "    }\n",
    "}"
   ]
  },
  {
   "cell_type": "code",
   "execution_count": 8,
   "metadata": {},
   "outputs": [
    {
     "data": {
      "text/plain": [
       "'{\"Country\": \"Germany\", \"Vehicle\": {\"name\": \"Vokswagen\", \"model\": \"T-Roc\"}}'"
      ]
     },
     "execution_count": 8,
     "metadata": {},
     "output_type": "execute_result"
    }
   ],
   "source": [
    "json.dumps(data)"
   ]
  },
  {
   "cell_type": "code",
   "execution_count": 19,
   "metadata": {},
   "outputs": [
    {
     "name": "stdout",
     "output_type": "stream",
     "text": [
      "{\n",
      "  \"Country\": \"Germany\",\n",
      "  \"Vehicle\": {\n",
      "    \"name\": \"Vokswagen\",\n",
      "    \"model\": \"T-Roc\"\n",
      "  }\n",
      "}\n"
     ]
    }
   ],
   "source": [
    "print(json.dumps(data,indent=2))"
   ]
  },
  {
   "cell_type": "code",
   "execution_count": null,
   "metadata": {},
   "outputs": [],
   "source": []
  }
 ],
 "metadata": {
  "kernelspec": {
   "display_name": "Python 3",
   "language": "python",
   "name": "python3"
  },
  "language_info": {
   "codemirror_mode": {
    "name": "ipython",
    "version": 3
   },
   "file_extension": ".py",
   "mimetype": "text/x-python",
   "name": "python",
   "nbconvert_exporter": "python",
   "pygments_lexer": "ipython3",
   "version": "3.7.6"
  }
 },
 "nbformat": 4,
 "nbformat_minor": 4
}
